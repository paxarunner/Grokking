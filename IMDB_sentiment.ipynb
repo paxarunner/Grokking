{
 "cells": [
  {
   "cell_type": "code",
   "execution_count": 1,
   "id": "c0cfaabb",
   "metadata": {},
   "outputs": [
    {
     "name": "stdout",
     "output_type": "stream",
     "text": [
      "/Users/mac/Desktop\n"
     ]
    }
   ],
   "source": [
    "cd /Users/mac/Desktop/"
   ]
  },
  {
   "cell_type": "code",
   "execution_count": 2,
   "id": "7949c76b",
   "metadata": {},
   "outputs": [
    {
     "name": "stdout",
     "output_type": "stream",
     "text": [
      "done\n"
     ]
    }
   ],
   "source": [
    "import os\n",
    "import numpy as np\n",
    "import sys\n",
    "from collections import Counter\n",
    "\n",
    "train_neg_data_path = 'IMDB/aclImdb/train/neg'\n",
    "train_pos_data_path = 'IMDB/aclImdb/train/pos'\n",
    "\n",
    "seed = 77\n",
    "reviews = []\n",
    "labels = []\n",
    "         \n",
    "for file in os.listdir(train_neg_data_path):\n",
    "    with open(f'{train_neg_data_path}/{file}') as f:\n",
    "        rev = f.readline()\n",
    "        for sign in (\"<br />\",\"/\",\"\\\\\",\")\",\"(\",\";\",\":\",\"?\",\"!\",\"<\",\">\",\"#\",\"$\",\",\",\"]\",\"[\"):\n",
    "            rev = rev.replace(sign, '')\n",
    "            rev = rev.replace('.', ' ')\n",
    "            rev = rev.replace(\"'\", ' ')\n",
    "        reviews.append(rev.lower())\n",
    "    labels.append('negative\\n')\n",
    "\n",
    "for file in os.listdir(train_pos_data_path):\n",
    "    with open(f'{train_pos_data_path}/{file}') as f:\n",
    "        rev = f.readline()\n",
    "        for sign in (\"<br />\",\"/\",\"\\\\\",\")\",\"(\",\";\",\":\",\"?\",\"!\",\"<\",\">\",\"#\",\"$\",\",\",\"]\",\"[\"):\n",
    "            rev = rev.replace(sign, '')\n",
    "            rev = rev.replace('.', ' ') \n",
    "            rev = rev.replace(\"'\", ' ') \n",
    "        reviews.append(rev.lower())\n",
    "    labels.append('positive\\n')\n",
    "print('done')\n",
    "    \n",
    "np.random.seed(seed)\n",
    "np.random.shuffle(reviews)\n",
    "np.random.seed(seed)\n",
    "np.random.shuffle(labels) "
   ]
  },
  {
   "cell_type": "code",
   "execution_count": null,
   "id": "3f57659e",
   "metadata": {},
   "outputs": [
    {
     "name": "stdout",
     "output_type": "stream",
     "text": [
      "Iter:0 Progress: 92.% Training Accuracy: 0.8304421546889266%\n",
      "Iter:1 Progress: 92.% Training Accuracy: 0.8673219718729389%\n",
      "Iter:2 Progress: 92.% Training Accuracy: 0.8873536992436726%\n",
      "Iter:3 Progress: 92.% Training Accuracy: 0.9015799833685961%\n",
      "Iter:4 Progress: 92.% Training Accuracy: 0.912580566549861%%\n",
      "Iter:5 Progress: 52.% Training Accuracy: 0.9183915910406689%"
     ]
    }
   ],
   "source": [
    "tokens = list(map(lambda x:x.split(' '), reviews))\n",
    "\n",
    "vocab = set()\n",
    "for sent in tokens:\n",
    "    for word in sent:\n",
    "        if (len(word) > 0):\n",
    "            vocab.add(word)\n",
    "vocab = list(vocab)\n",
    "\n",
    "word2index = {}\n",
    "for i, word in enumerate(vocab):\n",
    "    word2index[word] = i\n",
    "    \n",
    "input_dataset = []\n",
    "\n",
    "for sent in tokens:\n",
    "    sent_indices = []\n",
    "    \n",
    "    for word in sent:\n",
    "        try:\n",
    "            sent_indices.append(word2index[word])\n",
    "        except:\n",
    "            ''\n",
    "    input_dataset.append(list(set(sent_indices)))\n",
    "\n",
    "target_dataset = []\n",
    "\n",
    "for line in labels:\n",
    "\n",
    "    if line == 'negative\\n':\n",
    "        target_dataset.append(0)\n",
    "    elif line == 'positive\\n':\n",
    "        target_dataset.append(1)\n",
    "\n",
    "def sigmoid(x):\n",
    "    return 1/(1 + np.exp(-x))\n",
    "\n",
    "alpha, iterations = (0.01, 10)\n",
    "hidden_size = 100\n",
    "\n",
    "weights_0_1 = 0.2*np.random.random((len(vocab), hidden_size)) - 0.1\n",
    "weights_1_2 = 0.2*np.random.random((hidden_size, 1)) - 0.1\n",
    "\n",
    "correct, total = (0,0)\n",
    "for iter in range(iterations):\n",
    "    \n",
    "    for i in range(len(input_dataset) - 1000):\n",
    "        x,y = (input_dataset[i], target_dataset[i])\n",
    "        layer_1 = sigmoid(np.sum(weights_0_1[x], axis=0))\n",
    "        layer_2 = sigmoid(np.dot(layer_1, weights_1_2))\n",
    "        \n",
    "        layer_2_delta = layer_2 - y\n",
    "        layer_1_delta = layer_2_delta.dot(weights_1_2.T)\n",
    "        \n",
    "        weights_0_1[x] -= layer_1_delta*alpha\n",
    "        weights_1_2    -= np.outer(layer_1, layer_2_delta) * alpha\n",
    "        \n",
    "        if (np.abs(layer_2_delta) < 0.5):\n",
    "            correct += 1\n",
    "        total += 1\n",
    "        if (i%1000 == 0):\n",
    "            #print(layer_1)\n",
    "            #print(np.dot(layer_1, weights_1_2))\n",
    "            #print(layer_2)\n",
    "            #print(layer_2_delta)\n",
    "            progress = str(i/float(len(input_dataset)))\n",
    "            sys.stdout.write('\\rIter:'+str(iter) + ' Progress: ' + progress[2:4] + '.' + progress[4:6] \\\n",
    "                             + '% Training Accuracy: ' + str(correct/float(total)) + '%')\n",
    "    print()\n",
    "\n",
    "correct, total = (0,0)\n",
    "\n",
    "for i in range(len(input_dataset) - 1000, len(input_dataset)):\n",
    "    \n",
    "    x = input_dataset[i]\n",
    "    y = target_dataset[i]\n",
    "        \n",
    "    layer_1 = sigmoid(np.sum(weights_0_1[x], axis=0))\n",
    "    layer_2 = sigmoid(np.dot(layer_1, weights_1_2))  \n",
    "\n",
    "    if (np.abs(layer_2 - y) < 0.5):\n",
    "        correct += 1\n",
    "    total += 1\n",
    "print(\"Test Accuracy: \" + str(correct/float(total)))"
   ]
  },
  {
   "cell_type": "code",
   "execution_count": 21,
   "id": "3d26478d",
   "metadata": {},
   "outputs": [
    {
     "data": {
      "text/plain": [
       "[('terrible', -0.0),\n",
       " ('gain', -0.6783184302663342),\n",
       " ('redeeming', -0.7227914850411765),\n",
       " ('pointless', -0.7258882705450946),\n",
       " ('kitchen', -0.746662505410141),\n",
       " ('horrible', -0.7570797594971905),\n",
       " ('pass', -0.7649519293351765),\n",
       " ('lame', -0.7686034708950499),\n",
       " ('connect', -0.7746148238557031),\n",
       " ('excitement', -0.7784793712546751)]"
      ]
     },
     "execution_count": 21,
     "metadata": {},
     "output_type": "execute_result"
    }
   ],
   "source": [
    "from collections import Counter\n",
    "import math\n",
    "\n",
    "def similar(target='terrible'):\n",
    "    target_index = word2index[target]\n",
    "    scores = Counter()\n",
    "    \n",
    "    for word, index in word2index.items():\n",
    "        raw_difference = weights_0_1[index] - (weights_0_1[target_index])\n",
    "        squared_difference = raw_difference * raw_difference\n",
    "        scores[word] = -math.sqrt(sum(squared_difference))\n",
    "        \n",
    "    return scores.most_common(10)\n",
    "similar()\n"
   ]
  },
  {
   "cell_type": "code",
   "execution_count": 23,
   "id": "e877799c",
   "metadata": {},
   "outputs": [
    {
     "data": {
      "text/plain": [
       "['he-he-hello this is a really fun movie  basically in party girl you have your fun-lovin  independent early 90 s new yorker chick  along with her party friends she meets a mature turkish vendor  it is ',\n",
       " '\"it wasn t me it was er my twin brother rupert\" bobby says to dugan when confronted about being over at sally s place  i have used this line dozens of times over the years no one has yet to believe it',\n",
       " 'the fiendish plot of dr  fu manchu starring peter sellers in a spoof of the characters created by sax rohmer is an injustice to the end of sellers  career  the plot was very simplistic and if done the']"
      ]
     },
     "execution_count": 23,
     "metadata": {},
     "output_type": "execute_result"
    }
   ],
   "source": [
    "#Сначала поэлементное умножение, потом сумма в строку\n",
    "norms = np.sum(weights_0_1 * weights_0_1, axis=1)\n",
    "#print(weight_0_1.shape)   - (123950, 50)\n",
    "#print(norms.shape)        - (123950,) \n",
    "\n",
    "norms.resize(norms.shape[0], 1)\n",
    "#print(norms.shape) (123950, 1)\n",
    "\n",
    "normed_weights = weights_0_1 * norms   #(123950, 1)\n",
    "#print(normed_weights.shape) (123950, 50)\n",
    "\n",
    "\n",
    "#  indices = list(map(lambda x:word2index[x], filter(lambda x:x in word2index, ['working',\n",
    "# 'with', '123131313'])))\n",
    "# Если слова из списка есть в словаре word2index, то выражение \"x('one') in word2index\" становится True,\n",
    "# и это слово передается в lambda x:word2index[x], после чего превращается в индекс слова и попадает в лист.\n",
    "#То есть подсчитывается среднее всех слов по обзору\n",
    "\n",
    "def make_sent_vect(words):\n",
    "    indices = list(map(lambda x:word2index[x], filter(lambda x:x in word2index, words)))\n",
    "    return np.mean(normed_weights[indices], axis=0)\n",
    "    #Все слова суммируем и превращаем в средний вектор\n",
    "\n",
    "#make_sent_vect(['bad', 'lame']).shape (50,)\n",
    "\n",
    "reviews2vectors = list()\n",
    "for review in tokens:\n",
    "    reviews2vectors.append(make_sent_vect(review))\n",
    "reviews2vectors = np.array(reviews2vectors)\n",
    "#Все обзоры в средних векторах\n",
    "#print('rev2vec', reviews2vectors.shape) (25000, 50)\n",
    "\n",
    "def most_similar_reviews(review):\n",
    "    v = make_sent_vect(review) #превращаем поданный обзор в средний вектор\n",
    "    scores = Counter()\n",
    "    \n",
    "    for i, val in enumerate(reviews2vectors.dot(v)): #перемножаем все вектора и заданный, и пишем в счетчик\n",
    "        scores[i] = val                              #метрика сходства\n",
    "        \n",
    "    #print(scores.most_common(3)) [(4780, 31047.867819076473), (3376, 31025.682831544942), (5615, 30938.59066475642)]\n",
    "    most_similar = list()\n",
    "    \n",
    "    for idx, score in scores.most_common(3):\n",
    "        most_similar.append(raw_reviews[idx][0:200])\n",
    "    return most_similar\n",
    "most_similar_reviews(['beautiful', 'amazing'])\n"
   ]
  },
  {
   "cell_type": "code",
   "execution_count": null,
   "id": "0b5fbb7a",
   "metadata": {},
   "outputs": [],
   "source": []
  }
 ],
 "metadata": {
  "kernelspec": {
   "display_name": "Python 3 (ipykernel)",
   "language": "python",
   "name": "python3"
  },
  "language_info": {
   "codemirror_mode": {
    "name": "ipython",
    "version": 3
   },
   "file_extension": ".py",
   "mimetype": "text/x-python",
   "name": "python",
   "nbconvert_exporter": "python",
   "pygments_lexer": "ipython3",
   "version": "3.9.6"
  }
 },
 "nbformat": 4,
 "nbformat_minor": 5
}
