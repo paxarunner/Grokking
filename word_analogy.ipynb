{
 "cells": [
  {
   "cell_type": "code",
   "execution_count": 37,
   "id": "db0d8641",
   "metadata": {},
   "outputs": [
    {
     "name": "stdout",
     "output_type": "stream",
     "text": [
      "done\n"
     ]
    }
   ],
   "source": [
    "import os\n",
    "import numpy as np\n",
    "import sys, math, random\n",
    "\n",
    "train_neg_data_path = '/Users/mac/Desktop/IMDB/aclImdb/train/neg'\n",
    "train_pos_data_path = '/Users/mac/Desktop/IMDB/aclImdb/train/pos'\n",
    "\n",
    "seed = 1\n",
    "np.random.seed(1) \n",
    "random.seed(1)\n",
    "reviews = []\n",
    "labels = []\n",
    "         \n",
    "for file in os.listdir(train_neg_data_path):\n",
    "    with open(f'{train_neg_data_path}/{file}') as f:\n",
    "        rev = f.readline()\n",
    "        for sign in (\"<br />\",\"/\",\"\\\\\",\")\",\"(\",\";\",\":\",\"?\",\"!\",\"<\",\">\",\"#\",\"$\",\",\",\"]\",\"[\"):\n",
    "            rev = rev.replace(sign, '')\n",
    "            rev = rev.replace('.', ' ')\n",
    "            rev = rev.replace(\"'\", ' ')\n",
    "        reviews.append(rev.lower())\n",
    "    labels.append('negative\\n')\n",
    "\n",
    "for file in os.listdir(train_pos_data_path):\n",
    "    with open(f'{train_pos_data_path}/{file}') as f:\n",
    "        rev = f.readline()\n",
    "        for sign in (\"<br />\",\"/\",\"\\\\\",\")\",\"(\",\";\",\":\",\"?\",\"!\",\"<\",\">\",\"#\",\"$\",\",\",\"]\",\"[\"):\n",
    "            rev = rev.replace(sign, '')\n",
    "            rev = rev.replace('.', ' ') \n",
    "            rev = rev.replace(\"'\", ' ') \n",
    "        reviews.append(rev.lower())\n",
    "    labels.append('positive\\n')\n",
    "print('done')"
   ]
  },
  {
   "cell_type": "code",
   "execution_count": 38,
   "id": "73171593",
   "metadata": {},
   "outputs": [
    {
     "name": "stdout",
     "output_type": "stream",
     "text": [
      "donе\n"
     ]
    }
   ],
   "source": [
    "from collections import Counter\n",
    "\n",
    "tokens = list(map(lambda x:(x.split(' ')), reviews))\n",
    "wordcnt = Counter()\n",
    "for sent in tokens:\n",
    "    for word in sent:\n",
    "        wordcnt[word] -= 1   #счетчик - кортежи со словом и сколько раз встречается\n",
    "vocab = list(set(map(lambda x:x[0], wordcnt.most_common())))\n",
    "\n",
    "word2index = {}\n",
    "for i, word in enumerate(vocab):\n",
    "    word2index[word] = i\n",
    "    \n",
    "concatenated = list()\n",
    "input_dataset = list()\n",
    "\n",
    "for sent in tokens:\n",
    "    sent_indices = list()\n",
    "    \n",
    "    for word in sent:\n",
    "        try:\n",
    "            sent_indices.append(word2index[word])\n",
    "            concatenated.append(word2index[word])\n",
    "        except:\n",
    "            \"\"\n",
    "    input_dataset.append(sent_indices)\n",
    "concatenated = np.array(concatenated)    #все слова во всех обзорах - 3840053\n",
    "print('donе')"
   ]
  },
  {
   "cell_type": "code",
   "execution_count": 39,
   "id": "cfbdddcd",
   "metadata": {},
   "outputs": [
    {
     "name": "stdout",
     "output_type": "stream",
     "text": [
      "Progress: 0.0%               | Close meaning: [('terrible', -0.0), ('jobmore', -0.3756935395892518), ('\"lovely', -0.4001037601932979), ('brereton', -0.40698162747495154), ('\"snap\"', -0.40844424099482457), ('\"hostel\"', -0.4128899058173174), ('rudiments', -0.4182332242005236), ('\"h', -0.4245184835125415), ('tonenealwelles', -0.42456282233050263), ('\"blow', -0.42800789502114156)]\n",
      "Progress: 5.0%               | Close meaning: [('terrible', -0.0), ('horrible', -1.560521218727666), ('brilliant', -1.855462515608804), ('poorly', -1.9271112456351245), ('decent', -1.937621159148777), ('solid', -1.980501889420204), ('porn', -1.999708293170252), ('disappointing', -2.001079215235697), ('simple', -2.034207861580273), ('remarkable', -2.044195328209629)]\n",
      "Progress: 10.0%               | Close meaning: [('terrible', -0.0), ('cute', -2.6243340959369603), ('weak', -2.639840243343166), ('brilliant', -2.6569897673114795), ('cheesy', -2.7801319543829135), ('mediocre', -2.800403233941436), ('successful', -2.911700426420117), ('weird', -2.9479997503187008), ('wonderful', -2.94914373877873), ('horrible', -2.950741519664542)]\n",
      "Progress: 15.0%               | Close meaning: [('terrible', -0.0), ('brilliant', -3.2358648844191777), ('horrible', -3.409441036989515), ('lame', -3.7951079673671773), ('fantastic', -3.821508062155814), ('terrific', -3.840736837102015), ('cheesy', -3.8806926693508252), ('weak', -3.885225822258228), ('wonderful', -3.940747898401497), ('solid', -3.9483175888917574)]\n",
      "Progress: 20.0%               | Close meaning: [('terrible', -0.0), ('horrible', -3.565571860523701), ('fantastic', -3.9950159640825316), ('weak', -4.184568959556817), ('poor', -4.18708342301179), ('lame', -4.237232190984083), ('pathetic', -4.2463751174557824), ('terrific', -4.296764563408701), ('hilarious', -4.344166445517168), ('mediocre', -4.356810977125785)]\n",
      "Progress: 25.0%               | Close meaning: [('terrible', -0.0), ('horrible', -3.45869194115141), ('pathetic', -3.750435054907619), ('brilliant', -3.8230429241320882), ('lame', -3.8802583144415004), ('ridiculous', -3.9566700809851016), ('terrific', -4.2741282074052735), ('laughable', -4.2865123664476), ('atrocious', -4.351730612920446), ('fantastic', -4.369546785106673)]\n",
      "Progress: 30.0%               | Close meaning: [('terrible', -0.0), ('horrible', -3.65280054873112), ('pathetic', -4.281641636764678), ('fantastic', -4.3119556708579525), ('terrific', -4.325960029054539), ('lame', -4.468006285016051), ('poor', -4.536148740753765), ('great', -4.555116075654679), ('atrocious', -4.598542713085812), ('awful', -4.6439186070545775)]\n",
      "Progress: 35.0%               | Close meaning: [('terrible', -0.0), ('horrible', -3.3306782620834827), ('lame', -3.940817944692816), ('pathetic', -4.094538444554103), ('fantastic', -4.271064066903167), ('brilliant', -4.401244023010684), ('terrific', -4.421717131309513), ('good', -4.65383673837485), ('laughable', -4.723624838784349), ('horrendous', -4.762850216638121)]\n",
      "Progress: 40.0%               | Close meaning: [('terrible', -0.0), ('horrible', -3.59753039099056), ('dreadful', -4.171861674216557), ('pathetic', -4.349557878495854), ('fantastic', -4.372528155226735), ('lame', -4.383369717560023), ('brilliant', -4.388395418756281), ('atrocious', -4.51244268765363), ('horrendous', -4.563755790582642), ('spectacular', -4.564895615078249)]\n",
      "Progress: 45.0%               | Close meaning: [('terrible', -0.0), ('horrible', -3.3420977180880134), ('fantastic', -4.308917967620569), ('dreadful', -4.313827469682068), ('lame', -4.334619580261418), ('brilliant', -4.485413847790715), ('ridiculous', -4.508897350625116), ('atrocious', -4.6914867475879936), ('horrendous', -4.7858436473631345), ('terrific', -4.806662622635481)]\n",
      "Progress: 50.0%               | Close meaning: [('terrible', -0.0), ('horrible', -3.157080809173406), ('dreadful', -4.560040462553719), ('ridiculous', -4.6306326961124995), ('atrocious', -4.646672501990342), ('brilliant', -4.660598292849056), ('fantastic', -4.772204108331396), ('pathetic', -4.783820755546696), ('horrendous', -4.883782227272097), ('awful', -4.901525545134362)]\n",
      "Progress: 55.00000000000001%               | Close meaning: [('terrible', -0.0), ('horrible', -3.2183265045771243), ('dreadful', -3.9710681514090496), ('ridiculous', -4.309002508211947), ('pathetic', -4.422110445977053), ('atrocious', -4.449294610946406), ('horrendous', -4.4830087862409895), ('lame', -4.649511552962988), ('fantastic', -4.668681136001279), ('lousy', -4.688656290246505)]\n",
      "Progress: 60.0%               | Close meaning: [('terrible', -0.0), ('horrible', -3.034465489328953), ('dreadful', -3.9345934401956324), ('pathetic', -4.147610987890825), ('horrendous', -4.43106232600157), ('brilliant', -4.583382977459103), ('weak', -4.681502813613345), ('atrocious', -4.688424419473256), ('remarkable', -4.740567691271381), ('lousy', -4.74429717513729)]\n",
      "Progress: 65.0%               | Close meaning: [('terrible', -0.0), ('horrible', -3.4735246339323953), ('pathetic', -4.101763221190628), ('dreadful', -4.374505072548635), ('horrendous', -4.585017192271765), ('lousy', -4.724127010871627), ('lame', -4.837882314537909), ('brilliant', -4.8726106399277755), ('awful', -4.966298625956762), ('atrocious', -5.001508931516554)]\n",
      "Progress: 70.0%               | Close meaning: [('terrible', -0.0), ('horrible', -3.2674097617086586), ('pathetic', -4.041487021015273), ('horrendous', -4.093475631809579), ('atrocious', -4.210735483333915), ('dreadful', -4.236406416153017), ('ridiculous', -4.247333235034106), ('lousy', -4.595284954647864), ('lame', -4.607534732411055), ('abysmal', -4.685709438505577)]\n",
      "Progress: 75.0%               | Close meaning: [('terrible', -0.0), ('horrible', -3.1010701403493286), ('dreadful', -4.005496233845839), ('awful', -4.188528191693072), ('pathetic', -4.306897409202617), ('abysmal', -4.316072414368699), ('horrendous', -4.349713870787117), ('dire', -4.408972563708894), ('atrocious', -4.464021838091763), ('horrid', -4.491912720019133)]\n",
      "Progress: 80.0%               | Close meaning: [('terrible', -0.0), ('horrible', -3.5139250786869205), ('ridiculous', -4.08028072206186), ('dreadful', -4.118895869003964), ('atrocious', -4.12698653495188), ('horrendous', -4.148320255884428), ('horrid', -4.184593954339506), ('awful', -4.280787268403223), ('pathetic', -4.375717611202856), ('abysmal', -4.3768363775758345)]\n",
      "Progress: 85.0%               | Close meaning: [('terrible', -0.0), ('horrible', -3.335462142962987), ('dreadful', -3.656135716644901), ('horrendous', -3.960927293177759), ('pathetic', -4.221616372482878), ('brilliant', -4.233449768268167), ('horrid', -4.245693739192855), ('fantastic', -4.428040629151341), ('lame', -4.436815655425687), ('lousy', -4.5432230203699095)]\n",
      "Progress: 90.0%               | Close meaning: [('terrible', -0.0), ('horrible', -3.453889804638615), ('dreadful', -3.7783440553934144), ('horrendous', -4.049199290959742), ('lousy', -4.149091540339274), ('horrid', -4.289140807197981), ('brilliant', -4.745722738299186), ('passable', -4.746111130593417), ('so-so', -4.824465807123345), ('abysmal', -4.895728841667746)]\n",
      "Progress: 95.0%               | Close meaning: [('terrible', -0.0), ('horrible', -2.914658973142317), ('dreadful', -3.7622952181789198), ('horrendous', -3.821035864560415), ('brilliant', -4.51243241302934), ('ridiculous', -4.527706996804058), ('atrocious', -4.528631684501693), ('awful', -4.546807087188328), ('horrid', -4.600058232439072), ('lame', -4.719715590137179)]\n",
      "[('terrible', -0.0), ('horrible', -3.1817779243262243), ('dreadful', -4.025065219527085), ('horrendous', -4.348967545703452), ('abysmal', -4.670911120024751), ('pathetic', -4.73142769994546), ('horrid', -4.776062879976408), ('awful', -4.837415203349763), ('atrocious', -4.8492402296786015), ('appalling', -4.961292528587143)]\n"
     ]
    }
   ],
   "source": [
    "\n",
    "random.shuffle(input_dataset)\n",
    "\n",
    "alpha, iterations = (0.05, 2)\n",
    "hidden_size, window, negative = (50, 2, 5)\n",
    "\n",
    "weight_0_1 = (np.random.rand(len(vocab), hidden_size) - 0.5) * 0.2\n",
    "weight_1_2 = np.zeros((len(vocab), hidden_size))               \n",
    "\n",
    "weight_0_1.shape, weight_1_2.shape\n",
    "\n",
    "layer_2_target = np.zeros(negative+1)\n",
    "layer_2_target[0] = 1\n",
    " \n",
    "def similar(target='terrible'):\n",
    "    target_index = word2index[target]\n",
    "    scores = Counter()\n",
    "    \n",
    "    for word, index in word2index.items():\n",
    "        raw_difference = weight_0_1[index] - (weight_0_1[target_index])\n",
    "        squared_difference = raw_difference * raw_difference\n",
    "        scores[word] = -math.sqrt(sum(squared_difference))\n",
    "    return scores.most_common(10)\n",
    "\n",
    "def sigmoid(x):\n",
    "    return 1/(1 + np.exp(-x))\n",
    "\n",
    "for rev_i, review in enumerate((input_dataset*iterations)):   #список увеличивается в iterations раз\n",
    "    #print(rev_i,' ',review)\n",
    "    for target_i in range(len(review)):\n",
    "        \n",
    "        #Слово из обзора + 5 случайных индексов:\n",
    "        target_samples = [review[target_i]] + list(concatenated[(np.random.rand(negative)*len(concatenated)).astype('int').tolist()])\n",
    "        #print(target_samples) [77810, 48283, 35507, 9606, 18169]        \n",
    "        \n",
    "        left_context = review[max(0, target_i - window):target_i]\n",
    "        right_context = review[target_i+1:min(len(review), target_i + window+1)]\n",
    "          \n",
    "#         print('left:',left_context)\n",
    "#         print('right:', right_context)\n",
    "        \n",
    "        layer_1 = np.mean(weight_0_1[left_context + right_context], axis=0)  # array (50,)\n",
    "        #weight_1_2[target_samples].T).shape (50,6) \n",
    "        \n",
    "        layer_2 = sigmoid(layer_1.dot(weight_1_2[target_samples].T))  #shape (6,)\n",
    "\n",
    "        layer_2_delta = layer_2 - layer_2_target   #(6,0)\n",
    "        layer_1_delta = layer_2_delta.dot(weight_1_2[target_samples]) #layer_1_delta.shape - (50,)\n",
    "        \n",
    "        weight_0_1[left_context+right_context] -= layer_1_delta*alpha\n",
    "        weight_1_2[target_samples] -= np.outer(layer_2_delta, layer_1) * alpha\n",
    "        \n",
    "#     if (rev_i%250 == 0):\n",
    "#         sys.stdout.write('\\rProgress:' + str(rev_i/float(len(input_dataset*iterations))) \n",
    "#                                              + \" \" + str(similar('terrible')))\n",
    "    #sys.stdout.write('\\rProgress:' + str(rev_i/float(len(input_dataset)*iterations)))\n",
    "\n",
    "    if (rev_i%2500 == 0):\n",
    "        print(f'Progress: {(round(rev_i/float(len(input_dataset*iterations)), 3))*100}% \\\n",
    "              | Close meaning: {similar(\"terrible\")}')\n",
    "\n",
    "print(similar('terrible'))"
   ]
  },
  {
   "cell_type": "code",
   "execution_count": 89,
   "id": "0681674b",
   "metadata": {},
   "outputs": [
    {
     "name": "stdout",
     "output_type": "stream",
     "text": [
      "(123950, 1)\n",
      "[('he', -899.8595842700796), ('nobody', -901.7350352288688), ('they', -902.1837026153111), ('i', -902.2831358086463), ('happen', -902.538423103598), ('husband', -902.6002194302539), ('it', -902.7367791213763), ('someone', -902.8475126272233), ('u', -902.90825458605)]\n"
     ]
    }
   ],
   "source": [
    "def analogy(positive = ['elizabeth', 'he'], negative = ['she']):\n",
    "    \n",
    "    #Сначала поэлементное умножение, потом сумма в строку\n",
    "    norms = np.sum(weight_0_1 * weight_0_1, axis=1)\n",
    "    #print(weight_0_1.shape)   - (123950, 50)\n",
    "    #print(norms.shape)        - (123950,) \n",
    "    \n",
    "    norms.resize(norms.shape[0], 1)\n",
    "    print(norms.shape)\n",
    "\n",
    "    normed_weights = weight_0_1 * norms\n",
    "    \n",
    "    #print(normed_weights.shape)  - (123950, 50)\n",
    "    #print(len(weight_0_1[0]))   - 50\n",
    "    \n",
    "    query_vect = np.zeros(len(weight_0_1[0]))\n",
    "    \n",
    "    for word in positive:\n",
    "        query_vect += normed_weights[word2index[word]]\n",
    "    for word in negative:\n",
    "        query_vect -= normed_weights[word2index[word]]\n",
    "        \n",
    "    scores = Counter()\n",
    "    for word, index in word2index.items():\n",
    "        raw_difference = weight_0_1[index] - query_vect\n",
    "        squared_difference = raw_difference * raw_difference\n",
    "        scores[word] = -math.sqrt(sum(squared_difference))\n",
    "    return scores.most_common(10)[1:]\n"
   ]
  }
 ],
 "metadata": {
  "kernelspec": {
   "display_name": "Python 3 (ipykernel)",
   "language": "python",
   "name": "python3"
  },
  "language_info": {
   "codemirror_mode": {
    "name": "ipython",
    "version": 3
   },
   "file_extension": ".py",
   "mimetype": "text/x-python",
   "name": "python",
   "nbconvert_exporter": "python",
   "pygments_lexer": "ipython3",
   "version": "3.9.6"
  }
 },
 "nbformat": 4,
 "nbformat_minor": 5
}
